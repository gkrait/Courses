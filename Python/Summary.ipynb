{
 "cells": [
  {
   "cell_type": "markdown",
   "metadata": {},
   "source": [
    " # Basics in Python "
   ]
  },
  {
   "cell_type": "markdown",
   "metadata": {},
   "source": [
    "# 1) Printing  "
   ]
  },
  {
   "cell_type": "code",
   "execution_count": 1,
   "metadata": {},
   "outputs": [
    {
     "name": "stdout",
     "output_type": "stream",
     "text": [
      "Hello World!, Hello again, Again and again. Another line\n"
     ]
    }
   ],
   "source": [
    "print(\"Hello World!\", \"Hello again\", \"Again and again\",sep=', ', end='. ')\n",
    "print(\"Another line\")\n",
    "# The optional argument 'sep' controls the separation beween parameters \n",
    "# The optional argument end controls the end of every print "
   ]
  },
  {
   "cell_type": "markdown",
   "metadata": {},
   "source": [
    "# 2) Input Data"
   ]
  },
  {
   "cell_type": "code",
   "execution_count": 2,
   "metadata": {},
   "outputs": [
    {
     "name": "stdout",
     "output_type": "stream",
     "text": [
      "insert a number 4\n",
      "8\n"
     ]
    }
   ],
   "source": [
    "n=eval(input('insert a number '))\n",
    "print(2*n)"
   ]
  },
  {
   "cell_type": "markdown",
   "metadata": {},
   "source": [
    "# 3)  Declaring variables "
   ]
  },
  {
   "cell_type": "code",
   "execution_count": 3,
   "metadata": {},
   "outputs": [],
   "source": [
    "n=4 #n is integer\n",
    "n= int(3)\n",
    "m=4.  # m is float\n",
    "m=float(4)\n",
    "c=\"4\" # c is a string"
   ]
  },
  {
   "cell_type": "markdown",
   "metadata": {},
   "source": [
    "# 4) For loop"
   ]
  },
  {
   "cell_type": "code",
   "execution_count": 4,
   "metadata": {},
   "outputs": [
    {
     "name": "stdout",
     "output_type": "stream",
     "text": [
      "0\n",
      "1\n",
      "2\n",
      "3\n",
      "4\n",
      "5\n",
      "6\n",
      "7\n",
      "8\n",
      "9\n",
      "10\n",
      "7\n",
      "4\n"
     ]
    }
   ],
   "source": [
    "for i in range(10): # i starts from 0 and ends at 9 \n",
    "    print(i)\n",
    "\"\"\"for i in range(2,10):  # i starts from 2 and ends at 9\n",
    "    print(i)\"\"\"\n",
    "\"\"\"for i in range(2,10,3): # i ranges in {2,5,8} \n",
    "    print(i)\"\"\"\n",
    "for i in range(10,2,-3): # i ranges in {10,7,4}\n",
    "        print(i)\n",
    "        \n",
    "        "
   ]
  },
  {
   "cell_type": "markdown",
   "metadata": {},
   "source": [
    "# 4) Multiplying string"
   ]
  },
  {
   "cell_type": "code",
   "execution_count": null,
   "metadata": {},
   "outputs": [],
   "source": [
    "print(\"A\"*4)"
   ]
  },
  {
   "cell_type": "markdown",
   "metadata": {},
   "source": [
    "## 5) continue & break"
   ]
  },
  {
   "cell_type": "code",
   "execution_count": 4,
   "metadata": {},
   "outputs": [
    {
     "name": "stdout",
     "output_type": "stream",
     "text": [
      "16\n",
      "n is not a perfect odd  number\n"
     ]
    }
   ],
   "source": [
    "# Check whether a given number is an odd perfect square (example 9, 25, 49)\n",
    "import math\n",
    "n= eval(input())\n",
    "flag=False\n",
    "for i in range(2,n): # i starts from 0 and ends at 9 \n",
    "    if i % 2 ==0:\n",
    "        continue  # the loop skips even indices\n",
    "    if float(i) == math.sqrt(n) :\n",
    "        print(\"n is a perfect number\")\n",
    "        flag=True\n",
    "        break # the loop  stops if n is a perfect number\n",
    "if flag==False  :     \n",
    " print(\"n is not a perfect odd  number\")        \n",
    "\n",
    "        \n",
    "        "
   ]
  },
  {
   "cell_type": "markdown",
   "metadata": {},
   "source": [
    "## 6) Looping over lists "
   ]
  },
  {
   "cell_type": "code",
   "execution_count": 6,
   "metadata": {},
   "outputs": [
    {
     "name": "stdout",
     "output_type": "stream",
     "text": [
      "George\n",
      "Marc\n",
      "Stive\n",
      "Mari\n",
      "0\n",
      "1\n",
      "2\n",
      "3\n"
     ]
    }
   ],
   "source": [
    "L=[\"George\",\"Marc\",\"Stive\",\"Mari\"]\n",
    "for name in L:   # iterating over the element of a list\n",
    "    print(name)\n",
    "for i in range(len(L)): # iterating over the indices of the list\n",
    "    print(i)"
   ]
  },
  {
   "cell_type": "markdown",
   "metadata": {},
   "source": [
    "## 7) Importing libs"
   ]
  },
  {
   "cell_type": "code",
   "execution_count": 7,
   "metadata": {},
   "outputs": [
    {
     "name": "stdout",
     "output_type": "stream",
     "text": [
      "2.23606797749979\n"
     ]
    }
   ],
   "source": [
    "import math  #imports all functions in math but must mention math when calling every funtion\n",
    "import math as m #imports all functions in math but must mention math as m when calling every funtion\n",
    "from math import *  #imports all functions in math no need to mention math as lib\n",
    "from  math import sin   #imports sin from math\n",
    "\n",
    "\n",
    "print(sqrt(5))"
   ]
  },
  {
   "cell_type": "markdown",
   "metadata": {},
   "source": [
    "# 8) Random integers"
   ]
  },
  {
   "cell_type": "code",
   "execution_count": 10,
   "metadata": {},
   "outputs": [
    {
     "name": "stdout",
     "output_type": "stream",
     "text": [
      "9\n"
     ]
    }
   ],
   "source": [
    "import random\n",
    "print(random.randint(1,10))"
   ]
  },
  {
   "cell_type": "markdown",
   "metadata": {},
   "source": [
    "# 9 ) if clause "
   ]
  },
  {
   "cell_type": "code",
   "execution_count": 2,
   "metadata": {},
   "outputs": [
    {
     "data": {
      "text/plain": [
       "'if (condition): \\n    Statments\\nif (condition) :   \\n     Statments\\n        \\nelse:         \\n  pass'"
      ]
     },
     "execution_count": 2,
     "metadata": {},
     "output_type": "execute_result"
    }
   ],
   "source": [
    "\"\"\"if (condition): \n",
    "    Statments\n",
    "if (condition) :   \n",
    "     Statments\n",
    "        \n",
    "else:         \n",
    "  pass\"\"\""
   ]
  },
  {
   "cell_type": "markdown",
   "metadata": {},
   "source": [
    "## Ex 7, Page 41"
   ]
  },
  {
   "cell_type": "code",
   "execution_count": null,
   "metadata": {},
   "outputs": [],
   "source": [
    "import math as m \n",
    "n=int( input())\n",
    "for i in range(2,m.floor(m.sqrt(n)),1):\n",
    "     if n % int(i**2) ==0:\n",
    "        print('n is not square free')\n",
    "        break\n",
    "     print('n is square free')   \n",
    "        "
   ]
  },
  {
   "cell_type": "markdown",
   "metadata": {},
   "source": [
    "# 10) Strings "
   ]
  },
  {
   "cell_type": "code",
   "execution_count": 4,
   "metadata": {},
   "outputs": [
    {
     "name": "stdout",
     "output_type": "stream",
     "text": [
      "22\n"
     ]
    }
   ],
   "source": [
    "name =\"Hello world \"\n",
    "name='Heloo world '\n",
    "name=\"\"\" George \n",
    "Marc \n",
    "Sylvain\"\"\"\n",
    "\n",
    "#print(\"M\" in name)\n",
    "emp =\"\"\n",
    "\n",
    "print(len(name))"
   ]
  },
  {
   "cell_type": "markdown",
   "metadata": {},
   "source": [
    "### Operations in strings"
   ]
  },
  {
   "cell_type": "code",
   "execution_count": 2,
   "metadata": {},
   "outputs": [
    {
     "name": "stdout",
     "output_type": "stream",
     "text": [
      "George Lazard\n",
      "George George George George \n"
     ]
    }
   ],
   "source": [
    "name = \"George \"\n",
    "name2 = \"Lazard\"\n",
    "\n",
    "print(name + name2) # addition\n",
    "print(name * 4)"
   ]
  },
  {
   "cell_type": "markdown",
   "metadata": {},
   "source": [
    "### Looping over string "
   ]
  },
  {
   "cell_type": "code",
   "execution_count": 8,
   "metadata": {},
   "outputs": [
    {
     "name": "stdout",
     "output_type": "stream",
     "text": [
      "G\n",
      "e\n",
      "o\n",
      "r\n",
      "g\n",
      "e\n",
      " \n"
     ]
    }
   ],
   "source": [
    "for s in name:\n",
    "    print(s)"
   ]
  },
  {
   "cell_type": "markdown",
   "metadata": {},
   "source": [
    "### index for string"
   ]
  },
  {
   "cell_type": "code",
   "execution_count": 9,
   "metadata": {},
   "outputs": [
    {
     "name": "stdout",
     "output_type": "stream",
     "text": [
      "George Lazard\n",
      "2\n"
     ]
    }
   ],
   "source": [
    "name3 = name +name2\n",
    "print(name3)\n",
    "print(name3.count(\"e\"))\n"
   ]
  },
  {
   "cell_type": "markdown",
   "metadata": {},
   "source": [
    "### Importing punctuation marks"
   ]
  },
  {
   "cell_type": "code",
   "execution_count": 22,
   "metadata": {},
   "outputs": [
    {
     "name": "stdout",
     "output_type": "stream",
     "text": [
      "!\"#$%&'()*+,-./:;<=>?@[\\]^_`{|}~\n"
     ]
    }
   ],
   "source": [
    "from string import punctuation\n",
    "print(punctuation)"
   ]
  },
  {
   "cell_type": "markdown",
   "metadata": {},
   "source": [
    "# 11) lists "
   ]
  },
  {
   "cell_type": "code",
   "execution_count": 18,
   "metadata": {},
   "outputs": [
    {
     "data": {
      "text/plain": [
       "7"
      ]
     },
     "execution_count": 18,
     "metadata": {},
     "output_type": "execute_result"
    }
   ],
   "source": [
    "L= [1,2,3,7,-4,\"fhsdj\",[2]]\n",
    "len(L) # length \n"
   ]
  },
  {
   "cell_type": "code",
   "execution_count": 13,
   "metadata": {},
   "outputs": [
    {
     "name": "stdout",
     "output_type": "stream",
     "text": [
      "[1, 2, 3, 1, 2, 3, 1, 2, 3]\n"
     ]
    }
   ],
   "source": [
    "L1=[1,2,3]\n",
    "L2=[4,5,6]\n",
    "print(L1*3)"
   ]
  },
  {
   "cell_type": "markdown",
   "metadata": {},
   "source": [
    "almost all we mentioned for strings are applied to lists "
   ]
  },
  {
   "cell_type": "markdown",
   "metadata": {},
   "source": [
    "### Remark \n"
   ]
  },
  {
   "cell_type": "code",
   "execution_count": 16,
   "metadata": {},
   "outputs": [
    {
     "name": "stdout",
     "output_type": "stream",
     "text": [
      "[1, 2, 3, 4, 5, 6]\n",
      "[1, 2, 3, 4, 5]\n"
     ]
    }
   ],
   "source": [
    "M1=[1,2,3,4,5]\n",
    "M2=M1[:]\n",
    "M2.append(6)\n",
    "print(M2)\n",
    "print(M1)"
   ]
  },
  {
   "cell_type": "code",
   "execution_count": 4,
   "metadata": {},
   "outputs": [
    {
     "name": "stdout",
     "output_type": "stream",
     "text": [
      "[1, 2, 3, 4]\n"
     ]
    }
   ],
   "source": [
    "L=[1,2,3,4,5,6]\n",
    "\n",
    "print(L[:4])"
   ]
  },
  {
   "cell_type": "code",
   "execution_count": 3,
   "metadata": {},
   "outputs": [
    {
     "name": "stdout",
     "output_type": "stream",
     "text": [
      "Hi every how e are y e you\n"
     ]
    }
   ],
   "source": [
    "s= \"Hi every  how e  are  y e you\" \n",
    "L=(s.split())\n",
    " \n",
    "print(\" \".join(L))"
   ]
  },
  {
   "cell_type": "code",
   "execution_count": 6,
   "metadata": {},
   "outputs": [
    {
     "data": {
      "text/plain": [
       "[1, 9, 25, 49, 81]"
      ]
     },
     "execution_count": 6,
     "metadata": {},
     "output_type": "execute_result"
    }
   ],
   "source": [
    "[i**2 for i in range(10) if i % 2 ==1  ]  # [1, 9,25 ....]"
   ]
  },
  {
   "cell_type": "markdown",
   "metadata": {},
   "source": [
    "# 12) While loop"
   ]
  },
  {
   "cell_type": "code",
   "execution_count": null,
   "metadata": {},
   "outputs": [
    {
     "name": "stdout",
     "output_type": "stream",
     "text": [
      "3\n",
      "4\n",
      "G\n",
      "not integer\n"
     ]
    }
   ],
   "source": [
    "# a program that verifies whether the input is an integer or not \n",
    "\n",
    "while True: \n",
    "  n=input()\n",
    "  try:\n",
    "    k=int(n)\n",
    "        \n",
    "  except:\n",
    "     print(\"not integer\")\n",
    "\n",
    "\n",
    "\n",
    "    "
   ]
  },
  {
   "cell_type": "markdown",
   "metadata": {},
   "source": [
    "### Example \n",
    "Converting decimal integer to binary"
   ]
  },
  {
   "cell_type": "code",
   "execution_count": 7,
   "metadata": {},
   "outputs": [
    {
     "name": "stdout",
     "output_type": "stream",
     "text": [
      "Enter the number 7\n",
      "111\n"
     ]
    }
   ],
   "source": [
    "\n",
    "n=eval(input(\"Enter the number \"))\n",
    "t=n\n",
    "n_binary=\"\"\n",
    "while t !=0:\n",
    "     n_binary=str(t % 2)+n_binary\n",
    "     t=t//2\n",
    "print( n_binary)     \n"
   ]
  },
  {
   "cell_type": "markdown",
   "metadata": {},
   "source": [
    "## 13) Functions \n",
    "1) Local and global variables \\\n",
    "2) Default arguments and keyword arguments\\\n",
    "3) *args and **kwargs"
   ]
  },
  {
   "cell_type": "code",
   "execution_count": 14,
   "metadata": {},
   "outputs": [
    {
     "name": "stdout",
     "output_type": "stream",
     "text": [
      "8\n"
     ]
    }
   ],
   "source": [
    "def f(arg1,arg2,*args,**kwargs):\n",
    "    print(kwargs[\"r2\"])\n",
    "\n",
    "\n",
    "    \n",
    "   \n",
    "\n",
    "\n",
    "\n",
    "\n",
    "f(1,2,3,4,5,6, r1=7,rc=8)\n"
   ]
  },
  {
   "cell_type": "code",
   "execution_count": 17,
   "metadata": {},
   "outputs": [
    {
     "name": "stdout",
     "output_type": "stream",
     "text": [
      "13\n"
     ]
    }
   ],
   "source": [
    "def dec_to_bin(n, base=2,arg1=op1,arg2=2):\n",
    " t=n\n",
    " n_binary=\"\"\n",
    " while t !=0:\n",
    "     n_binary=str(t % base)+n_binary\n",
    "     t=t//base\n",
    " return n_binary\n",
    "\n",
    "\n",
    "print(dec_to_bin(11,arg1=3,arg2=5,base=6))"
   ]
  },
  {
   "cell_type": "markdown",
   "metadata": {},
   "source": [
    "## 14 ) Classes\n",
    "In a different folder (https://github.com/gkrait/Courses/tree/master/Python/Classes) "
   ]
  },
  {
   "cell_type": "code",
   "execution_count": null,
   "metadata": {},
   "outputs": [],
   "source": []
  }
 ],
 "metadata": {
  "kernelspec": {
   "display_name": "Python 3",
   "language": "python",
   "name": "python3"
  },
  "language_info": {
   "codemirror_mode": {
    "name": "ipython",
    "version": 3
   },
   "file_extension": ".py",
   "mimetype": "text/x-python",
   "name": "python",
   "nbconvert_exporter": "python",
   "pygments_lexer": "ipython3",
   "version": "3.7.6"
  }
 },
 "nbformat": 4,
 "nbformat_minor": 4
}
