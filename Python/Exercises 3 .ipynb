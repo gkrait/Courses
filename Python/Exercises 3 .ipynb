{
 "cells": [
  {
   "cell_type": "markdown",
   "metadata": {},
   "source": [
    "# Exercises 3 \n"
   ]
  },
  {
   "cell_type": "markdown",
   "metadata": {},
   "source": [
    "## STRINGS\n",
    "### 1)\n",
    "Write a small text editor, that is, write a program that asks the user to input a text and then the program offers the following  options:\n",
    "\n",
    "1) Count the number of words in the text.\n",
    "2) Count the number of a given string in the text.\n",
    "3) Count the number of punctuation marks in the text.\n",
    "4) Remove the punctuation marks.\n",
    "5) Remove capitalization\n",
    "6) Putting the first letter in the capital in case it is not.\n",
    "\n",
    "\n",
    "\n",
    "\n",
    "\n",
    "### 2) \n",
    "\n",
    "A simple and very old method of sending secret messages is the substitution cipher. Basically, each letter of the alphabet gets replaced by another letter of the alphabet, say every a gets replaced with an x , and every b gets replaced by a z , etc (you choose the way how the letters are replaced). Write a program to implement this."
   ]
  },
  {
   "cell_type": "markdown",
   "metadata": {},
   "source": [
    "# Lists \n",
    "\n",
    "## 1) \n",
    "Write a program that that asks the user 10 questions of the type: \" what is the ___ of a (country)\"\n",
    "where ___ stands for a Capital, Currency  or a Continent and (country) is randomly chosen country of the list above. Then it compares the users answers with the correct ones and corrects the wrong anwsers in the end."
   ]
  },
  {
   "cell_type": "code",
   "execution_count": 1,
   "metadata": {},
   "outputs": [],
   "source": [
    "Countries=['Afghanistan','Albania', 'Argentina','Austria','Bahamas','Bahrain','Bangladesh','Barbados','Belarus','Belgium','Bermuda','Bhutan','Bolivia']\n",
    "Capital=[\"Kabul\",'Tirana','Buenos Aires','Vienna','Nassau','Manama','Dhaka','Bridgetown','Minsk','Brussels','Hamilton','Thimphu','Sucre']\n",
    "Currency=[\"Afghani\",\"Lek\", \"Peso\",\"Euro\",\"Bahamian Dollar\",\"Bahraini dinar\",\"Taka\",\"Barbadian Dollar\",\"Belarusian ruble\",\"Euro\",\"Bermudian Dollar\",\"Bhutanese ngultrum\",\"Boliviano\"]\n",
    "Continent=[\"Asia\",\"Europe\",'South America',\"Europe\",\"North America\",\"Asia\",\"Asia\",\"North America\",\"Europe\",\"Europe\",\"North America\",\"Asia\",\"South America\"]"
   ]
  },
  {
   "cell_type": "markdown",
   "metadata": {},
   "source": [
    "# While loop\n",
    "\n",
    "## 1)\n",
    "Write a program for ATM machine (distributeur de billets) that asks the user to enter an amount of money and prints the suitable number of each piece of currencies 50, 20, 10, 2 and 1 euro with the minimal number of pieces and coins."
   ]
  },
  {
   "cell_type": "code",
   "execution_count": null,
   "metadata": {},
   "outputs": [],
   "source": []
  }
 ],
 "metadata": {
  "kernelspec": {
   "display_name": "Python 3",
   "language": "python",
   "name": "python3"
  },
  "language_info": {
   "codemirror_mode": {
    "name": "ipython",
    "version": 3
   },
   "file_extension": ".py",
   "mimetype": "text/x-python",
   "name": "python",
   "nbconvert_exporter": "python",
   "pygments_lexer": "ipython3",
   "version": "3.7.6"
  }
 },
 "nbformat": 4,
 "nbformat_minor": 4
}
